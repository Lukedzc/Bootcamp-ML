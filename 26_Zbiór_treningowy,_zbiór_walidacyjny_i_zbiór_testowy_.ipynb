{
  "nbformat": 4,
  "nbformat_minor": 0,
  "metadata": {
    "colab": {
      "provenance": [],
      "authorship_tag": "ABX9TyMLxmmfdgmeJT7YN5xFizq+",
      "include_colab_link": true
    },
    "kernelspec": {
      "name": "python3",
      "display_name": "Python 3"
    },
    "language_info": {
      "name": "python"
    }
  },
  "cells": [
    {
      "cell_type": "markdown",
      "metadata": {
        "id": "view-in-github",
        "colab_type": "text"
      },
      "source": [
        "<a href=\"https://colab.research.google.com/github/Lukedzc/Bootcamp-ML/blob/main/26_Zbi%C3%B3r_treningowy%2C_zbi%C3%B3r_walidacyjny_i_zbi%C3%B3r_testowy_.ipynb\" target=\"_parent\"><img src=\"https://colab.research.google.com/assets/colab-badge.svg\" alt=\"Open In Colab\"/></a>"
      ]
    },
    {
      "cell_type": "markdown",
      "source": [
        "Import bibliotek\n",
        "Zbiór treningowy i zbiór testowy"
      ],
      "metadata": {
        "id": "mgMmYbdpXFIR"
      }
    },
    {
      "cell_type": "code",
      "execution_count": 1,
      "metadata": {
        "colab": {
          "base_uri": "https://localhost:8080/",
          "height": 35
        },
        "id": "FlVFB1x-VM6I",
        "outputId": "6d88b123-b826-4759-bd3b-807d1de8da99"
      },
      "outputs": [
        {
          "output_type": "execute_result",
          "data": {
            "text/plain": [
              "'1.2.2'"
            ],
            "application/vnd.google.colaboratory.intrinsic+json": {
              "type": "string"
            }
          },
          "metadata": {},
          "execution_count": 1
        }
      ],
      "source": [
        "import numpy as np\n",
        "import pandas as pd\n",
        "import sklearn\n",
        "import seaborn as sns\n",
        "\n",
        "np.random.seed(42)\n",
        "np.set_printoptions(edgeitems=30, linewidth=100000,\n",
        "                    formatter=dict(float=lambda x: f'{x:.2f}'))\n",
        "sns.set()\n",
        "sklearn.__version__"
      ]
    },
    {
      "cell_type": "code",
      "source": [
        "#Załadowanie danych\n",
        "from sklearn.datasets import load_iris\n",
        "\n",
        "raw_data = load_iris()\n",
        "raw_data_copy = raw_data.copy()\n",
        "raw_data_copy.keys()"
      ],
      "metadata": {
        "colab": {
          "base_uri": "https://localhost:8080/"
        },
        "id": "yFdDXydZXBJE",
        "outputId": "e20f787e-5c41-4df1-8d5b-4213ece3a81c"
      },
      "execution_count": 2,
      "outputs": [
        {
          "output_type": "execute_result",
          "data": {
            "text/plain": [
              "dict_keys(['data', 'target', 'frame', 'target_names', 'DESCR', 'feature_names', 'filename', 'data_module'])"
            ]
          },
          "metadata": {},
          "execution_count": 2
        }
      ]
    },
    {
      "cell_type": "code",
      "source": [],
      "metadata": {
        "id": "Ur9YCAWFXVp9"
      },
      "execution_count": null,
      "outputs": []
    }
  ]
}